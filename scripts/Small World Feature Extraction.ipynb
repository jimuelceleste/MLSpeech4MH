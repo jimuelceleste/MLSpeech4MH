{
 "cells": [
  {
   "cell_type": "markdown",
   "id": "1987d37c-1b7b-4b1b-bdfc-1a3ccad41a6f",
   "metadata": {},
   "source": [
    "# Small World Feature Extraction \n",
    "\n",
    "By: Jimuel Celeste, Jr. \n",
    "\n",
    "Objective: To develop a tool that would extract Small World Represenation Features from audio recordings."
   ]
  },
  {
   "cell_type": "code",
   "execution_count": 1,
   "id": "b4cd7192-b1bc-4e0d-b3c9-63bad2e7c150",
   "metadata": {},
   "outputs": [
    {
     "name": "stdout",
     "output_type": "stream",
     "text": [
      "Average Path Length: 4.748080808080808\n",
      "Average Clustering Coefficient: 0.3722857142857142\n"
     ]
    }
   ],
   "source": [
    "import pandas as pd\n",
    "import numpy as np\n",
    "import networkx as nx\n",
    "from scipy.spatial.distance import pdist, squareform\n",
    "\n",
    "# 1. Load or create your time series data\n",
    "# Example: synthetic time series\n",
    "time_series_data = pd.Series(np.sin(np.linspace(0, 100, 100)) + np.random.rand(100) * 0.1)\n",
    "\n",
    "# 2. Define a similarity metric and build the graph\n",
    "# For simplicity, using a distance threshold for edges\n",
    "threshold = 0.5  # Adjust based on your data and desired connectivity\n",
    "distance_matrix = squareform(pdist(time_series_data.values.reshape(-1, 1))) # Reshape for pdist\n",
    "adjacency_matrix = (distance_matrix < threshold).astype(int)\n",
    "\n",
    "# Create a NetworkX graph from the adjacency matrix\n",
    "G = nx.from_numpy_array(adjacency_matrix)\n",
    "\n",
    "# 3. Apply Watts-Strogatz model to achieve small-world properties\n",
    "# n: number of nodes, k: number of nearest neighbors in initial ring lattice, p: rewiring probability\n",
    "# You might need to experiment with k and p to get desired small-world characteristics\n",
    "n_nodes = len(time_series_data)\n",
    "k_neighbors = 4  # Example: connect to 4 nearest neighbors\n",
    "rewiring_probability = 0.1 # Example: 10% chance of rewiring an edge\n",
    "\n",
    "# Ensure G is connected for Watts-Strogatz if starting from an arbitrary graph\n",
    "# Or, directly create a Watts-Strogatz graph if your time series representation allows it\n",
    "# For example, if nodes are sequential points and edges are based on temporal proximity\n",
    "G_small_world = nx.watts_strogatz_graph(n_nodes, k_neighbors, rewiring_probability)\n",
    "\n",
    "# 4. Analyze the small-world network (optional)\n",
    "# Calculate properties like average path length and clustering coefficient\n",
    "avg_path_length = nx.average_shortest_path_length(G_small_world)\n",
    "clustering_coefficient = nx.average_clustering(G_small_world)\n",
    "\n",
    "print(f\"Average Path Length: {avg_path_length}\")\n",
    "print(f\"Average Clustering Coefficient: {clustering_coefficient}\")\n",
    "\n",
    "# Visualize the network (optional)\n",
    "# import matplotlib.pyplot as plt\n",
    "# nx.draw(G_small_world, with_labels=False, node_size=10)\n",
    "# plt.show()"
   ]
  },
  {
   "cell_type": "markdown",
   "id": "dda51208-71a4-40fa-aeaf-a3e212911d7c",
   "metadata": {},
   "source": [
    "## Links\n",
    "1. NetworkX - Average Shortest Path Length: https://networkx.org/documentation/stable/reference/algorithms/generated/networkx.algorithms.shortest_paths.generic.average_shortest_path_length.html\n",
    "2. NetworkX - Average Clustering: https://networkx.org/documentation/stable/reference/algorithms/generated/networkx.algorithms.cluster.average_clustering.html#networkx.algorithms.cluster.average_clustering\n",
    "3. NetworkX - Small-World Functions: https://networkx.org/documentation/stable/reference/algorithms/smallworld.html\n",
    "4. NetworkX - Small-World Sigma: https://networkx.org/documentation/stable/reference/algorithms/generated/networkx.algorithms.smallworld.sigma.html\n",
    "5. NetworkX - Small-World Omega: https://networkx.org/documentation/stable/reference/algorithms/generated/networkx.algorithms.smallworld.omega.html\n",
    "6. Google - WebRTC VAD Segmentation: https://github.com/wiseman/py-webrtcvad\n",
    "7. CarlosBergillos - ts2vg: Time series to visibility graphs: https://github.com/CarlosBergillos/ts2vg?tab=readme-ov-file#lacasa2008"
   ]
  },
  {
   "cell_type": "code",
   "execution_count": null,
   "id": "1fc435c6-d24e-4ff2-8368-d0ef16b0f210",
   "metadata": {},
   "outputs": [],
   "source": []
  }
 ],
 "metadata": {
  "kernelspec": {
   "display_name": "Python 3 (ipykernel)",
   "language": "python",
   "name": "python3"
  },
  "language_info": {
   "codemirror_mode": {
    "name": "ipython",
    "version": 3
   },
   "file_extension": ".py",
   "mimetype": "text/x-python",
   "name": "python",
   "nbconvert_exporter": "python",
   "pygments_lexer": "ipython3",
   "version": "3.9.21"
  }
 },
 "nbformat": 4,
 "nbformat_minor": 5
}
