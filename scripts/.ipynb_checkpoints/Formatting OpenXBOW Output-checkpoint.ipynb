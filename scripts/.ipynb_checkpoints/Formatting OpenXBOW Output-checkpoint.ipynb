{
 "cells": [
  {
   "cell_type": "markdown",
   "id": "97080db6-d418-4022-a076-9f17662be781",
   "metadata": {},
   "source": [
    "# Formatting openXBOW Output\n",
    "\n",
    "By Jimuel Celeste, Jr. \n",
    "\n",
    "Objective: Format openXBOW output for downstream tasks, e.g., training."
   ]
  },
  {
   "cell_type": "code",
   "execution_count": 1,
   "id": "b560ed2a-ea03-43ed-8d62-5d6bd3849c7d",
   "metadata": {},
   "outputs": [],
   "source": [
    "import pandas as pd \n",
    "import numpy as np "
   ]
  },
  {
   "cell_type": "code",
   "execution_count": 2,
   "id": "a84d3180-0a20-41ba-94cc-f09e64061c24",
   "metadata": {},
   "outputs": [],
   "source": [
    "sample = \"/Users/jimuelcelestejr/Documents/codebook/MLSpeech4MH/results/TAUKADIAL2024_samples/acoustic/boaw_size_100_compare_2016_lld/taukdial-003-2.csv\""
   ]
  },
  {
   "cell_type": "code",
   "execution_count": 10,
   "id": "6ec84c11-5310-497b-83b5-813d022c3c5b",
   "metadata": {},
   "outputs": [
    {
     "data": {
      "text/plain": [
       "Index(['21.0', '12.0', '12.0.1', '10.0', '64.0', '93.0', '13.0', '17.0',\n",
       "       '28.0', '19.0', '34.0', '28.0.1', '15.0', '24.0', '15.0.1', '14.0',\n",
       "       '75.0', '27.0', '64.0.1', '24.0.1', '19.0.1', '86.0', '23.0', '24.0.2',\n",
       "       '7.0', '10.0.1', '28.0.2', '15.0.2', '8.0', '24.0.3', '8.0.1', '37.0',\n",
       "       '39.0', '2.0', '26.0', '16.0', '5.0', '44.0', '29.0', '19.0.2',\n",
       "       '14.0.1', '53.0', '66.0', '21.0.1', '47.0', '19.0.3', '21.0.2',\n",
       "       '10.0.2', '46.0', '24.0.4', '30.0', '4.0', '44.0.1', '23.0.1', '26.0.1',\n",
       "       '39.0.1', '15.0.3', '13.0.1', '13.0.2', '13.0.3', '6.0', '8.0.2',\n",
       "       '63.0', '67.0', '57.0', '10.0.3', '8.0.3', '39.0.2', '53.0.1', '53.0.2',\n",
       "       '47.0.1', '25.0', '60.0', '7.0.1', '13.0.4', '20.0', '31.0', '89.0',\n",
       "       '19.0.4', '95.0', '21.0.3', '10.0.4', '28.0.3', '39.0.3', '22.0',\n",
       "       '14.0.2', '33.0', '23.0.2', '2.0.1', '107.0', '27.0.1', '17.0.1',\n",
       "       '20.0.1', '25.0.1', '14.0.3', '31.0.1', '41.0', '7.0.2', '64.0.2',\n",
       "       '51.0'],\n",
       "      dtype='object')"
      ]
     },
     "execution_count": 10,
     "metadata": {},
     "output_type": "execute_result"
    }
   ],
   "source": [
    "df = pd.read_csv(sample, delimiter=';')\n",
    "df.columns"
   ]
  },
  {
   "cell_type": "code",
   "execution_count": 11,
   "id": "b33a2443-e2d6-4c95-866d-46dba9ef8e40",
   "metadata": {},
   "outputs": [
    {
     "data": {
      "text/plain": [
       "100"
      ]
     },
     "execution_count": 11,
     "metadata": {},
     "output_type": "execute_result"
    }
   ],
   "source": [
    "len(df.columns)"
   ]
  },
  {
   "cell_type": "code",
   "execution_count": 12,
   "id": "710a3fdf-fdcf-4974-8743-b3759bc8cf75",
   "metadata": {},
   "outputs": [
    {
     "data": {
      "text/plain": [
       "array([ 21.,  12.,  12.,  10.,  64.,  93.,  13.,  17.,  28.,  19.,  34.,\n",
       "        28.,  15.,  24.,  15.,  14.,  75.,  27.,  64.,  24.,  19.,  86.,\n",
       "        23.,  24.,   7.,  10.,  28.,  15.,   8.,  24.,   8.,  37.,  39.,\n",
       "         2.,  26.,  16.,   5.,  44.,  29.,  19.,  14.,  53.,  66.,  21.,\n",
       "        47.,  19.,  21.,  10.,  46.,  24.,  30.,   4.,  44.,  23.,  26.,\n",
       "        39.,  15.,  13.,  13.,  13.,   6.,   8.,  63.,  67.,  57.,  10.,\n",
       "         8.,  39.,  53.,  53.,  47.,  25.,  60.,   7.,  13.,  20.,  31.,\n",
       "        89.,  19.,  95.,  21.,  10.,  28.,  39.,  22.,  14.,  33.,  23.,\n",
       "         2., 107.,  27.,  17.,  20.,  25.,  14.,  31.,  41.,   7.,  64.,\n",
       "        51.])"
      ]
     },
     "execution_count": 12,
     "metadata": {},
     "output_type": "execute_result"
    }
   ],
   "source": [
    "arr = np.loadtxt(sample, delimiter=';')\n",
    "arr"
   ]
  },
  {
   "cell_type": "code",
   "execution_count": 13,
   "id": "fe5e1884-1336-452d-bab6-a3d083e75ea8",
   "metadata": {},
   "outputs": [
    {
     "data": {
      "text/plain": [
       "100"
      ]
     },
     "execution_count": 13,
     "metadata": {},
     "output_type": "execute_result"
    }
   ],
   "source": [
    "len(arr)"
   ]
  },
  {
   "cell_type": "markdown",
   "id": "bf75a533-79dc-4d6f-b144-3672747a5b12",
   "metadata": {},
   "source": [
    "For some reason, pandas cannot properly read the csv file with ';' delimiter. Numpy does it cleanly."
   ]
  },
  {
   "cell_type": "code",
   "execution_count": 15,
   "id": "61c1a5f8-97a3-4bb3-8c23-38d47f10019e",
   "metadata": {},
   "outputs": [
    {
     "data": {
      "text/plain": [
       "array([  1,   2,   3,   4,   5,   6,   7,   8,   9,  10,  11,  12,  13,\n",
       "        14,  15,  16,  17,  18,  19,  20,  21,  22,  23,  24,  25,  26,\n",
       "        27,  28,  29,  30,  31,  32,  33,  34,  35,  36,  37,  38,  39,\n",
       "        40,  41,  42,  43,  44,  45,  46,  47,  48,  49,  50,  51,  52,\n",
       "        53,  54,  55,  56,  57,  58,  59,  60,  61,  62,  63,  64,  65,\n",
       "        66,  67,  68,  69,  70,  71,  72,  73,  74,  75,  76,  77,  78,\n",
       "        79,  80,  81,  82,  83,  84,  85,  86,  87,  88,  89,  90,  91,\n",
       "        92,  93,  94,  95,  96,  97,  98,  99, 100])"
      ]
     },
     "execution_count": 15,
     "metadata": {},
     "output_type": "execute_result"
    }
   ],
   "source": [
    "columns = np.arange(1, 100+1, 1)\n",
    "columns"
   ]
  },
  {
   "cell_type": "code",
   "execution_count": 23,
   "id": "2e9430b4-9c34-4ce3-a6c1-e8988d554054",
   "metadata": {},
   "outputs": [
    {
     "data": {
      "text/html": [
       "<div>\n",
       "<style scoped>\n",
       "    .dataframe tbody tr th:only-of-type {\n",
       "        vertical-align: middle;\n",
       "    }\n",
       "\n",
       "    .dataframe tbody tr th {\n",
       "        vertical-align: top;\n",
       "    }\n",
       "\n",
       "    .dataframe thead th {\n",
       "        text-align: right;\n",
       "    }\n",
       "</style>\n",
       "<table border=\"1\" class=\"dataframe\">\n",
       "  <thead>\n",
       "    <tr style=\"text-align: right;\">\n",
       "      <th></th>\n",
       "      <th>1</th>\n",
       "      <th>2</th>\n",
       "      <th>3</th>\n",
       "      <th>4</th>\n",
       "      <th>5</th>\n",
       "      <th>6</th>\n",
       "      <th>7</th>\n",
       "      <th>8</th>\n",
       "      <th>9</th>\n",
       "      <th>10</th>\n",
       "      <th>...</th>\n",
       "      <th>91</th>\n",
       "      <th>92</th>\n",
       "      <th>93</th>\n",
       "      <th>94</th>\n",
       "      <th>95</th>\n",
       "      <th>96</th>\n",
       "      <th>97</th>\n",
       "      <th>98</th>\n",
       "      <th>99</th>\n",
       "      <th>100</th>\n",
       "    </tr>\n",
       "  </thead>\n",
       "  <tbody>\n",
       "    <tr>\n",
       "      <th>0</th>\n",
       "      <td>21.0</td>\n",
       "      <td>12.0</td>\n",
       "      <td>12.0</td>\n",
       "      <td>10.0</td>\n",
       "      <td>64.0</td>\n",
       "      <td>93.0</td>\n",
       "      <td>13.0</td>\n",
       "      <td>17.0</td>\n",
       "      <td>28.0</td>\n",
       "      <td>19.0</td>\n",
       "      <td>...</td>\n",
       "      <td>27.0</td>\n",
       "      <td>17.0</td>\n",
       "      <td>20.0</td>\n",
       "      <td>25.0</td>\n",
       "      <td>14.0</td>\n",
       "      <td>31.0</td>\n",
       "      <td>41.0</td>\n",
       "      <td>7.0</td>\n",
       "      <td>64.0</td>\n",
       "      <td>51.0</td>\n",
       "    </tr>\n",
       "  </tbody>\n",
       "</table>\n",
       "<p>1 rows × 100 columns</p>\n",
       "</div>"
      ],
      "text/plain": [
       "    1     2     3     4     5     6     7     8     9     10   ...   91   \\\n",
       "0  21.0  12.0  12.0  10.0  64.0  93.0  13.0  17.0  28.0  19.0  ...  27.0   \n",
       "\n",
       "    92    93    94    95    96    97   98    99    100  \n",
       "0  17.0  20.0  25.0  14.0  31.0  41.0  7.0  64.0  51.0  \n",
       "\n",
       "[1 rows x 100 columns]"
      ]
     },
     "execution_count": 23,
     "metadata": {},
     "output_type": "execute_result"
    }
   ],
   "source": [
    "new_df = pd.DataFrame(data=[arr], columns=columns)\n",
    "new_df"
   ]
  },
  {
   "cell_type": "code",
   "execution_count": null,
   "id": "052c8dba-beac-45ab-9c7a-bffd706d9bfb",
   "metadata": {},
   "outputs": [],
   "source": []
  }
 ],
 "metadata": {
  "kernelspec": {
   "display_name": "Python 3 (ipykernel)",
   "language": "python",
   "name": "python3"
  },
  "language_info": {
   "codemirror_mode": {
    "name": "ipython",
    "version": 3
   },
   "file_extension": ".py",
   "mimetype": "text/x-python",
   "name": "python",
   "nbconvert_exporter": "python",
   "pygments_lexer": "ipython3",
   "version": "3.9.21"
  }
 },
 "nbformat": 4,
 "nbformat_minor": 5
}
