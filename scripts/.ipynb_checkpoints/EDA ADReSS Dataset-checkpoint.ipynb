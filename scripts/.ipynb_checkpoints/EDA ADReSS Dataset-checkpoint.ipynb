{
 "cells": [
  {
   "cell_type": "markdown",
   "id": "a46ee0d0-37ef-4cfc-be13-c281fdf87cb8",
   "metadata": {},
   "source": [
    "# EDA ADReSS Dataset\n",
    "\n",
    "By: Jimuel Celeste, Jr. \n",
    "\n",
    "Objective: Explore what's in the ADReSS Dataset"
   ]
  },
  {
   "cell_type": "code",
   "execution_count": 1,
   "id": "3f77b458-70dc-4e7c-a8c4-288523e7a103",
   "metadata": {},
   "outputs": [],
   "source": [
    "import pandas as pd \n",
    "import numpy as np\n",
    "import matplotlib.pyplot as plt"
   ]
  },
  {
   "cell_type": "markdown",
   "id": "d96fd13c-f07b-412b-813b-728873fbba5d",
   "metadata": {},
   "source": [
    "## Training"
   ]
  },
  {
   "cell_type": "code",
   "execution_count": 4,
   "id": "6e37dd51-8e19-4ccf-a797-ccea0693783e",
   "metadata": {},
   "outputs": [
    {
     "data": {
      "text/html": [
       "<div>\n",
       "<style scoped>\n",
       "    .dataframe tbody tr th:only-of-type {\n",
       "        vertical-align: middle;\n",
       "    }\n",
       "\n",
       "    .dataframe tbody tr th {\n",
       "        vertical-align: top;\n",
       "    }\n",
       "\n",
       "    .dataframe thead th {\n",
       "        text-align: right;\n",
       "    }\n",
       "</style>\n",
       "<table border=\"1\" class=\"dataframe\">\n",
       "  <thead>\n",
       "    <tr style=\"text-align: right;\">\n",
       "      <th></th>\n",
       "      <th>ID</th>\n",
       "      <th>age</th>\n",
       "      <th>gender</th>\n",
       "      <th>mmse</th>\n",
       "    </tr>\n",
       "  </thead>\n",
       "  <tbody>\n",
       "    <tr>\n",
       "      <th>0</th>\n",
       "      <td>S001</td>\n",
       "      <td>74</td>\n",
       "      <td>male</td>\n",
       "      <td>NA</td>\n",
       "    </tr>\n",
       "    <tr>\n",
       "      <th>1</th>\n",
       "      <td>S002</td>\n",
       "      <td>62</td>\n",
       "      <td>female</td>\n",
       "      <td>30</td>\n",
       "    </tr>\n",
       "    <tr>\n",
       "      <th>2</th>\n",
       "      <td>S003</td>\n",
       "      <td>69</td>\n",
       "      <td>female</td>\n",
       "      <td>29</td>\n",
       "    </tr>\n",
       "    <tr>\n",
       "      <th>3</th>\n",
       "      <td>S004</td>\n",
       "      <td>71</td>\n",
       "      <td>female</td>\n",
       "      <td>30</td>\n",
       "    </tr>\n",
       "    <tr>\n",
       "      <th>4</th>\n",
       "      <td>S005</td>\n",
       "      <td>74</td>\n",
       "      <td>female</td>\n",
       "      <td>30</td>\n",
       "    </tr>\n",
       "  </tbody>\n",
       "</table>\n",
       "</div>"
      ],
      "text/plain": [
       "   ID      age   gender  mmse\n",
       "0  S001     74     male    NA\n",
       "1  S002     62   female    30\n",
       "2  S003     69   female    29\n",
       "3  S004     71   female    30\n",
       "4  S005     74   female    30"
      ]
     },
     "execution_count": 4,
     "metadata": {},
     "output_type": "execute_result"
    }
   ],
   "source": [
    "cc = '/Users/jimuelcelestejr/Documents/codebook/MLSpeech4MH/data/From ADReSS 2020 Challenge/ADReSS-IS2020-data/train/cc_meta_data.txt'\n",
    "cc = pd.read_csv(cc, sep=';')\n",
    "cc.head()"
   ]
  },
  {
   "cell_type": "code",
   "execution_count": 68,
   "id": "8d64b627-cade-4064-8478-1fad16cdc23e",
   "metadata": {},
   "outputs": [
    {
     "data": {
      "text/plain": [
       "(array([ 1.,  0.,  3.,  0.,  0.,  8.,  0., 18.,  0., 23.]),\n",
       " array([26. , 26.4, 26.8, 27.2, 27.6, 28. , 28.4, 28.8, 29.2, 29.6, 30. ]),\n",
       " <BarContainer object of 10 artists>)"
      ]
     },
     "execution_count": 68,
     "metadata": {},
     "output_type": "execute_result"
    },
    {
     "data": {
      "image/png": "[encoded data removed]",
      "text/plain": [
       "<Figure size 640x480 with 1 Axes>"
      ]
     },
     "metadata": {},
     "output_type": "display_data"
    }
   ],
   "source": [
    "plt.hist(cc['mmse'])"
   ]
  },
  {
   "cell_type": "code",
   "execution_count": 18,
   "id": "a41015ad-e9e9-47a7-a8da-5ae1c1a4a313",
   "metadata": {},
   "outputs": [
    {
     "data": {
      "text/html": [
       "<div>\n",
       "<style scoped>\n",
       "    .dataframe tbody tr th:only-of-type {\n",
       "        vertical-align: middle;\n",
       "    }\n",
       "\n",
       "    .dataframe tbody tr th {\n",
       "        vertical-align: top;\n",
       "    }\n",
       "\n",
       "    .dataframe thead th {\n",
       "        text-align: right;\n",
       "    }\n",
       "</style>\n",
       "<table border=\"1\" class=\"dataframe\">\n",
       "  <thead>\n",
       "    <tr style=\"text-align: right;\">\n",
       "      <th></th>\n",
       "      <th>ID</th>\n",
       "      <th>age</th>\n",
       "      <th>gender</th>\n",
       "      <th>mmse</th>\n",
       "    </tr>\n",
       "  </thead>\n",
       "  <tbody>\n",
       "    <tr>\n",
       "      <th>0</th>\n",
       "      <td>S079</td>\n",
       "      <td>59</td>\n",
       "      <td>male</td>\n",
       "      <td>11</td>\n",
       "    </tr>\n",
       "    <tr>\n",
       "      <th>1</th>\n",
       "      <td>S080</td>\n",
       "      <td>55</td>\n",
       "      <td>male</td>\n",
       "      <td>19</td>\n",
       "    </tr>\n",
       "    <tr>\n",
       "      <th>2</th>\n",
       "      <td>S081</td>\n",
       "      <td>69</td>\n",
       "      <td>male</td>\n",
       "      <td>19</td>\n",
       "    </tr>\n",
       "    <tr>\n",
       "      <th>3</th>\n",
       "      <td>S082</td>\n",
       "      <td>66</td>\n",
       "      <td>male</td>\n",
       "      <td>11</td>\n",
       "    </tr>\n",
       "    <tr>\n",
       "      <th>4</th>\n",
       "      <td>S083</td>\n",
       "      <td>52</td>\n",
       "      <td>male</td>\n",
       "      <td>30</td>\n",
       "    </tr>\n",
       "  </tbody>\n",
       "</table>\n",
       "</div>"
      ],
      "text/plain": [
       "   ID      age  gender   mmse\n",
       "0  S079     59    male     11\n",
       "1  S080     55    male     19\n",
       "2  S081     69    male     19\n",
       "3  S082     66    male     11\n",
       "4  S083     52    male     30"
      ]
     },
     "execution_count": 18,
     "metadata": {},
     "output_type": "execute_result"
    }
   ],
   "source": [
    "cd = '/Users/jimuelcelestejr/Documents/codebook/MLSpeech4MH/data/From ADReSS 2020 Challenge/ADReSS-IS2020-data/train/cd_meta_data.txt'\n",
    "cd = pd.read_csv(cd, sep=';')\n",
    "cd.head()"
   ]
  },
  {
   "cell_type": "code",
   "execution_count": 69,
   "id": "fb466473-29f7-4d82-ad99-91594ecf98c3",
   "metadata": {},
   "outputs": [
    {
     "data": {
      "text/plain": [
       "(array([ 1.,  0.,  2.,  7., 10., 14.,  9.,  6.,  4.,  1.]),\n",
       " array([ 1. ,  3.9,  6.8,  9.7, 12.6, 15.5, 18.4, 21.3, 24.2, 27.1, 30. ]),\n",
       " <BarContainer object of 10 artists>)"
      ]
     },
     "execution_count": 69,
     "metadata": {},
     "output_type": "execute_result"
    },
    {
     "data": {
      "image/png": "[encoded data removed]",
      "text/plain": [
       "<Figure size 640x480 with 1 Axes>"
      ]
     },
     "metadata": {},
     "output_type": "display_data"
    }
   ],
   "source": [
    "plt.hist(cd['mmse'])"
   ]
  },
  {
   "cell_type": "code",
   "execution_count": 66,
   "id": "4f0f4040-c548-4354-bfa0-80dd53d36997",
   "metadata": {},
   "outputs": [
    {
     "data": {
      "text/plain": [
       "(array([[ 0.,  0.,  0.,  0.,  0.,  0.,  0.,  0.,  4., 49.],\n",
       "        [ 1.,  0.,  2.,  7., 10., 14.,  9.,  6.,  4.,  1.]]),\n",
       " array([ 1. ,  3.9,  6.8,  9.7, 12.6, 15.5, 18.4, 21.3, 24.2, 27.1, 30. ]),\n",
       " <a list of 2 BarContainer objects>)"
      ]
     },
     "execution_count": 66,
     "metadata": {},
     "output_type": "execute_result"
    },
    {
     "data": {
      "image/png": "[encoded data removed]",
      "text/plain": [
       "<Figure size 640x480 with 1 Axes>"
      ]
     },
     "metadata": {},
     "output_type": "display_data"
    }
   ],
   "source": [
    "plt.hist([cc['mmse'], cd['mmse']])"
   ]
  },
  {
   "cell_type": "code",
   "execution_count": 67,
   "id": "309b8e3c-da72-476e-96b6-c47f5450056f",
   "metadata": {},
   "outputs": [
    {
     "data": {
      "text/plain": [
       "(array([ 1.,  0.,  2.,  7., 10., 14.,  9.,  6.,  4.,  1.]),\n",
       " array([ 1. ,  3.9,  6.8,  9.7, 12.6, 15.5, 18.4, 21.3, 24.2, 27.1, 30. ]),\n",
       " <BarContainer object of 10 artists>)"
      ]
     },
     "execution_count": 67,
     "metadata": {},
     "output_type": "execute_result"
    },
    {
     "data": {
      "image/png": "[encoded data removed]",
      "text/plain": [
       "<Figure size 640x480 with 1 Axes>"
      ]
     },
     "metadata": {},
     "output_type": "display_data"
    }
   ],
   "source": [
    "plt.hist(cc['mmse'], label='cc')\n",
    "plt.hist(cd['mmse'], label='cd')"
   ]
  },
  {
   "cell_type": "markdown",
   "id": "32eeb64f-64bb-443b-be2c-8f45748b46e2",
   "metadata": {},
   "source": [
    "This makes sense because CC contains \"control\" and CD contains \"dementia\"."
   ]
  },
  {
   "cell_type": "code",
   "execution_count": 36,
   "id": "3093bb75-2b39-4db1-95de-5a9e3636c862",
   "metadata": {},
   "outputs": [],
   "source": [
    "cc['mmse'] = cc['mmse'].apply(lambda x: int(x.strip()) if x.strip() != 'NA' else None)"
   ]
  },
  {
   "cell_type": "code",
   "execution_count": 38,
   "id": "21288e28-e39d-4836-b130-36dafaf08edb",
   "metadata": {},
   "outputs": [
    {
     "data": {
      "text/html": [
       "<div>\n",
       "<style scoped>\n",
       "    .dataframe tbody tr th:only-of-type {\n",
       "        vertical-align: middle;\n",
       "    }\n",
       "\n",
       "    .dataframe tbody tr th {\n",
       "        vertical-align: top;\n",
       "    }\n",
       "\n",
       "    .dataframe thead th {\n",
       "        text-align: right;\n",
       "    }\n",
       "</style>\n",
       "<table border=\"1\" class=\"dataframe\">\n",
       "  <thead>\n",
       "    <tr style=\"text-align: right;\">\n",
       "      <th></th>\n",
       "      <th>ID</th>\n",
       "      <th>age</th>\n",
       "      <th>gender</th>\n",
       "      <th>mmse</th>\n",
       "    </tr>\n",
       "  </thead>\n",
       "  <tbody>\n",
       "    <tr>\n",
       "      <th>0</th>\n",
       "      <td>S001</td>\n",
       "      <td>74</td>\n",
       "      <td>male</td>\n",
       "      <td>NaN</td>\n",
       "    </tr>\n",
       "    <tr>\n",
       "      <th>1</th>\n",
       "      <td>S002</td>\n",
       "      <td>62</td>\n",
       "      <td>female</td>\n",
       "      <td>30.0</td>\n",
       "    </tr>\n",
       "    <tr>\n",
       "      <th>2</th>\n",
       "      <td>S003</td>\n",
       "      <td>69</td>\n",
       "      <td>female</td>\n",
       "      <td>29.0</td>\n",
       "    </tr>\n",
       "    <tr>\n",
       "      <th>3</th>\n",
       "      <td>S004</td>\n",
       "      <td>71</td>\n",
       "      <td>female</td>\n",
       "      <td>30.0</td>\n",
       "    </tr>\n",
       "    <tr>\n",
       "      <th>4</th>\n",
       "      <td>S005</td>\n",
       "      <td>74</td>\n",
       "      <td>female</td>\n",
       "      <td>30.0</td>\n",
       "    </tr>\n",
       "  </tbody>\n",
       "</table>\n",
       "</div>"
      ],
      "text/plain": [
       "   ID      age   gender   mmse\n",
       "0  S001     74     male    NaN\n",
       "1  S002     62   female   30.0\n",
       "2  S003     69   female   29.0\n",
       "3  S004     71   female   30.0\n",
       "4  S005     74   female   30.0"
      ]
     },
     "execution_count": 38,
     "metadata": {},
     "output_type": "execute_result"
    }
   ],
   "source": [
    "training = pd.concat([cc, cd])\n",
    "training.head()"
   ]
  },
  {
   "cell_type": "code",
   "execution_count": 43,
   "id": "b91d0c8d-258d-45c4-b37d-b05ae99d78a3",
   "metadata": {},
   "outputs": [
    {
     "data": {
      "text/plain": [
       "(array([ 1.,  0.,  2.,  7., 10., 14.,  9.,  6.,  8., 50.]),\n",
       " array([ 1. ,  3.9,  6.8,  9.7, 12.6, 15.5, 18.4, 21.3, 24.2, 27.1, 30. ]),\n",
       " <BarContainer object of 10 artists>)"
      ]
     },
     "execution_count": 43,
     "metadata": {},
     "output_type": "execute_result"
    },
    {
     "data": {
      "image/png": "[encoded data removed]",
      "text/plain": [
       "<Figure size 640x480 with 1 Axes>"
      ]
     },
     "metadata": {},
     "output_type": "display_data"
    }
   ],
   "source": [
    "plt.title(\"MMSE Score Distribution\")\n",
    "plt.xlabel(\"MMSE Score\")\n",
    "plt.ylabel(\"Number of Samples\")\n",
    "plt.hist(training['mmse'], label='training')"
   ]
  },
  {
   "cell_type": "code",
   "execution_count": 57,
   "id": "b31f9f89-440e-4c99-bf01-35c0645ac35b",
   "metadata": {},
   "outputs": [
    {
     "data": {
      "text/plain": [
       "count    53.000000\n",
       "mean     29.113208\n",
       "std       0.993447\n",
       "min      26.000000\n",
       "25%      29.000000\n",
       "50%      29.000000\n",
       "75%      30.000000\n",
       "max      30.000000\n",
       "Name: mmse, dtype: float64"
      ]
     },
     "execution_count": 57,
     "metadata": {},
     "output_type": "execute_result"
    }
   ],
   "source": [
    "cc['mmse'].describe()"
   ]
  },
  {
   "cell_type": "code",
   "execution_count": 58,
   "id": "ef628942-2141-4329-8b1e-1abefcf3e775",
   "metadata": {},
   "outputs": [
    {
     "data": {
      "text/plain": [
       "count    54.000000\n",
       "mean     17.055556\n",
       "std       5.464868\n",
       "min       1.000000\n",
       "25%      13.250000\n",
       "50%      17.000000\n",
       "75%      19.750000\n",
       "max      30.000000\n",
       "Name: mmse, dtype: float64"
      ]
     },
     "execution_count": 58,
     "metadata": {},
     "output_type": "execute_result"
    }
   ],
   "source": [
    "cd['mmse'].describe()"
   ]
  },
  {
   "cell_type": "code",
   "execution_count": 61,
   "id": "736c4fb8-5bfc-473a-b11c-cfb86c512a01",
   "metadata": {},
   "outputs": [
    {
     "name": "stderr",
     "output_type": "stream",
     "text": [
      "/var/folders/ny/jv8cwgpx7ng41dfgnqsvzdnw0000gn/T/ipykernel_79507/1952847855.py:4: MatplotlibDeprecationWarning: The 'labels' parameter of boxplot() has been renamed 'tick_labels' since Matplotlib 3.9; support for the old name will be dropped in 3.11.\n",
      "  plt.boxplot([cc['mmse'], cd['mmse']], labels=['cc', 'cd'])\n"
     ]
    },
    {
     "data": {
      "text/plain": [
       "{'whiskers': [<matplotlib.lines.Line2D at 0x1445c8eb0>,\n",
       "  <matplotlib.lines.Line2D at 0x1445d2190>,\n",
       "  <matplotlib.lines.Line2D at 0x1445e0100>,\n",
       "  <matplotlib.lines.Line2D at 0x1445e03a0>],\n",
       " 'caps': [<matplotlib.lines.Line2D at 0x1445d2430>,\n",
       "  <matplotlib.lines.Line2D at 0x1445d26d0>,\n",
       "  <matplotlib.lines.Line2D at 0x1445e0640>,\n",
       "  <matplotlib.lines.Line2D at 0x1445e08e0>],\n",
       " 'boxes': [<matplotlib.lines.Line2D at 0x1445c8c10>,\n",
       "  <matplotlib.lines.Line2D at 0x1445d2e20>],\n",
       " 'medians': [<matplotlib.lines.Line2D at 0x1445d2970>,\n",
       "  <matplotlib.lines.Line2D at 0x1445e0b80>],\n",
       " 'fliers': [<matplotlib.lines.Line2D at 0x1445d2c10>,\n",
       "  <matplotlib.lines.Line2D at 0x1445e0e20>],\n",
       " 'means': []}"
      ]
     },
     "execution_count": 61,
     "metadata": {},
     "output_type": "execute_result"
    },
    {
     "data": {
      "image/png": "[encoded data removed]",
      "text/plain": [
       "<Figure size 640x480 with 1 Axes>"
      ]
     },
     "metadata": {},
     "output_type": "display_data"
    }
   ],
   "source": [
    "plt.boxplot(cc['mmse'], label='cc')\n",
    "plt.boxplot(cd['mmse'], label='cd')\n",
    "plt.legend()\n",
    "plt.boxplot([cc['mmse'], cd['mmse']], labels=['cc', 'cd'])"
   ]
  },
  {
   "cell_type": "code",
   "execution_count": 49,
   "id": "75216407-1b63-40be-8c32-9444195249ba",
   "metadata": {},
   "outputs": [],
   "source": [
    "for column in training.columns: \n",
    "    training = training.rename(columns={column: column.strip()})"
   ]
  },
  {
   "cell_type": "code",
   "execution_count": 50,
   "id": "2cc6fd9b-d8ee-4e9c-b3e1-0e5deffa8fb5",
   "metadata": {},
   "outputs": [
    {
     "data": {
      "text/plain": [
       "(array([48.,  0.,  0.,  0.,  0.,  0.,  0.,  0.,  0., 60.]),\n",
       " array([0. , 0.1, 0.2, 0.3, 0.4, 0.5, 0.6, 0.7, 0.8, 0.9, 1. ]),\n",
       " <BarContainer object of 10 artists>)"
      ]
     },
     "execution_count": 50,
     "metadata": {},
     "output_type": "execute_result"
    },
    {
     "data": {
      "image/png": "[encoded data removed]",
      "text/plain": [
       "<Figure size 640x480 with 1 Axes>"
      ]
     },
     "metadata": {},
     "output_type": "display_data"
    }
   ],
   "source": [
    "plt.title(\"Sex Distribution\")\n",
    "plt.xlabel(\"Sex\")\n",
    "plt.ylabel(\"Number of Samples\")\n",
    "plt.hist(training['gender'], label='training')"
   ]
  },
  {
   "cell_type": "code",
   "execution_count": 71,
   "id": "6bae5c88-bf84-497e-b151-d03f872fe85b",
   "metadata": {},
   "outputs": [],
   "source": [
    "for column in cc.columns: \n",
    "    cc = cc.rename(columns={column: column.strip()})"
   ]
  },
  {
   "cell_type": "code",
   "execution_count": 72,
   "id": "567316d2-7094-4626-9ea4-453788a2e7c8",
   "metadata": {},
   "outputs": [
    {
     "data": {
      "text/plain": [
       "(array([24.,  0.,  0.,  0.,  0.,  0.,  0.,  0.,  0., 30.]),\n",
       " array([0. , 0.1, 0.2, 0.3, 0.4, 0.5, 0.6, 0.7, 0.8, 0.9, 1. ]),\n",
       " <BarContainer object of 10 artists>)"
      ]
     },
     "execution_count": 72,
     "metadata": {},
     "output_type": "execute_result"
    },
    {
     "data": {
      "image/png": "[encoded data removed]",
      "text/plain": [
       "<Figure size 640x480 with 1 Axes>"
      ]
     },
     "metadata": {},
     "output_type": "display_data"
    }
   ],
   "source": [
    "plt.title(\"Sex Distribution CC\")\n",
    "plt.xlabel(\"Sex\")\n",
    "plt.ylabel(\"Number of Samples\")\n",
    "plt.hist(cc['gender'], label='training')"
   ]
  },
  {
   "cell_type": "code",
   "execution_count": 73,
   "id": "66518594-b147-447d-9f8e-2b5feb609f27",
   "metadata": {},
   "outputs": [],
   "source": [
    "for column in cd.columns: \n",
    "    cd = cd.rename(columns={column: column.strip()})"
   ]
  },
  {
   "cell_type": "code",
   "execution_count": 74,
   "id": "54a0776c-afea-4692-9a64-89ddf736f352",
   "metadata": {},
   "outputs": [
    {
     "data": {
      "text/plain": [
       "(array([24.,  0.,  0.,  0.,  0.,  0.,  0.,  0.,  0., 30.]),\n",
       " array([0. , 0.1, 0.2, 0.3, 0.4, 0.5, 0.6, 0.7, 0.8, 0.9, 1. ]),\n",
       " <BarContainer object of 10 artists>)"
      ]
     },
     "execution_count": 74,
     "metadata": {},
     "output_type": "execute_result"
    },
    {
     "data": {
      "image/png": "[encoded data removed]",
      "text/plain": [
       "<Figure size 640x480 with 1 Axes>"
      ]
     },
     "metadata": {},
     "output_type": "display_data"
    }
   ],
   "source": [
    "plt.title(\"Sex Distribution CD\")\n",
    "plt.xlabel(\"Sex\")\n",
    "plt.ylabel(\"Number of Samples\")\n",
    "plt.hist(cd['gender'], label='training')"
   ]
  },
  {
   "cell_type": "code",
   "execution_count": 75,
   "id": "a25e0aeb-70ed-45eb-8ae3-7b71d8b024e7",
   "metadata": {},
   "outputs": [
    {
     "data": {
      "text/plain": [
       "(array([1., 4., 6., 4., 9., 8., 5., 8., 4., 5.]),\n",
       " array([52. , 54.7, 57.4, 60.1, 62.8, 65.5, 68.2, 70.9, 73.6, 76.3, 79. ]),\n",
       " <BarContainer object of 10 artists>)"
      ]
     },
     "execution_count": 75,
     "metadata": {},
     "output_type": "execute_result"
    },
    {
     "data": {
      "image/png": "[encoded data removed]",
      "text/plain": [
       "<Figure size 640x480 with 1 Axes>"
      ]
     },
     "metadata": {},
     "output_type": "display_data"
    }
   ],
   "source": [
    "plt.title(\"Age Distribution Training\")\n",
    "plt.xlabel(\"Age\")\n",
    "plt.ylabel(\"Number of Samples\")\n",
    "plt.hist(cd['age'], label='training')"
   ]
  },
  {
   "cell_type": "markdown",
   "id": "b3c7d08e-5a27-48a7-af5b-fa0917818ef6",
   "metadata": {},
   "source": [
    "## Testing"
   ]
  },
  {
   "cell_type": "code",
   "execution_count": null,
   "id": "0fbd1eb3-42ba-4707-8b05-0c8fb264582b",
   "metadata": {},
   "outputs": [],
   "source": []
  }
 ],
 "metadata": {
  "kernelspec": {
   "display_name": "Python 3 (ipykernel)",
   "language": "python",
   "name": "python3"
  },
  "language_info": {
   "codemirror_mode": {
    "name": "ipython",
    "version": 3
   },
   "file_extension": ".py",
   "mimetype": "text/x-python",
   "name": "python",
   "nbconvert_exporter": "python",
   "pygments_lexer": "ipython3",
   "version": "3.9.21"
  }
 },
 "nbformat": 4,
 "nbformat_minor": 5
}
