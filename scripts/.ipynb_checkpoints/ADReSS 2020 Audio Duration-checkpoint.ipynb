{
 "cells": [
  {
   "cell_type": "markdown",
   "id": "efdf9f43-acf1-4c2c-8c0c-df7ea0847a3a",
   "metadata": {},
   "source": [
    "# ADReSS 2020 Audio Duration\n",
    "\n",
    "By: Jimuel Celeste, Jr. \n",
    "\n",
    "Objective: To describe the ADReSS Dataset."
   ]
  },
  {
   "cell_type": "markdown",
   "id": "e813061f-cfd2-4f37-b262-efdbda54b96b",
   "metadata": {},
   "source": [
    "## Tools"
   ]
  },
  {
   "cell_type": "code",
   "execution_count": 1,
   "id": "0523bbcc-9e39-4e5a-9e59-bd977a0ed313",
   "metadata": {},
   "outputs": [],
   "source": [
    "import contextlib\n",
    "import datetime\n",
    "import os \n",
    "import wave\n",
    "\n",
    "import matplotlib.pyplot as plt\n",
    "import numpy as np\n",
    "import pandas as pd\n",
    "import seaborn as sns"
   ]
  },
  {
   "cell_type": "code",
   "execution_count": 2,
   "id": "29adefc7-968a-4c6a-a02b-fb33823dbaf9",
   "metadata": {},
   "outputs": [
    {
     "name": "stdout",
     "output_type": "stream",
     "text": [
      "88.8622902494331\n"
     ]
    }
   ],
   "source": [
    "# https://stackoverflow.com/questions/7833807/get-wav-file-length-or-duration\n",
    "fname = '/Users/jimuelcelestejr/Documents/codebook/MLSpeech4MH/data/ADReSS2020/train_audio_full_wave/S001.wav'\n",
    "with contextlib.closing(wave.open(fname,'r')) as f:\n",
    "    frames = f.getnframes()\n",
    "    rate = f.getframerate()\n",
    "    duration = frames / float(rate)\n",
    "    print(duration)"
   ]
  },
  {
   "cell_type": "code",
   "execution_count": 3,
   "id": "c342c70c-a1c9-4059-ad1c-3ea2dc3d4798",
   "metadata": {},
   "outputs": [
    {
     "data": {
      "text/plain": [
       "88.8622902494331"
      ]
     },
     "execution_count": 3,
     "metadata": {},
     "output_type": "execute_result"
    }
   ],
   "source": [
    "def get_duration(file):\n",
    "    with contextlib.closing(wave.open(file,'r')) as f:\n",
    "        frames = f.getnframes()\n",
    "        rate = f.getframerate()\n",
    "        duration = frames / float(rate)\n",
    "        return duration\n",
    "\n",
    "dur = get_duration(fname)\n",
    "dur"
   ]
  },
  {
   "cell_type": "code",
   "execution_count": 4,
   "id": "2d5940bb-6c7b-4d6e-a04e-1c2af6d9cdbf",
   "metadata": {},
   "outputs": [
    {
     "data": {
      "text/plain": [
       "'0:11:06'"
      ]
     },
     "execution_count": 4,
     "metadata": {},
     "output_type": "execute_result"
    }
   ],
   "source": [
    "# https://stackoverflow.com/questions/775049/how-do-i-convert-seconds-to-hours-minutes-and-seconds\n",
    "str(datetime.timedelta(seconds=666))"
   ]
  },
  {
   "cell_type": "code",
   "execution_count": 5,
   "id": "b5aac942-fdab-4a56-84b3-4a145172c2a1",
   "metadata": {},
   "outputs": [
    {
     "data": {
      "text/plain": [
       "datetime.timedelta(seconds=88, microseconds=862290)"
      ]
     },
     "execution_count": 5,
     "metadata": {},
     "output_type": "execute_result"
    }
   ],
   "source": [
    "def convert_to_mins(seconds):\n",
    "    return datetime.timedelta(seconds=seconds)\n",
    "\n",
    "convert_to_mins(seconds=dur)"
   ]
  },
  {
   "cell_type": "markdown",
   "id": "83a21bfa-aca2-46cb-a288-50de9cea47e2",
   "metadata": {},
   "source": [
    "## Dataset"
   ]
  },
  {
   "cell_type": "code",
   "execution_count": 6,
   "id": "b8935bb2-9158-4163-b77b-80725bb6fa77",
   "metadata": {},
   "outputs": [
    {
     "data": {
      "text/html": [
       "<div>\n",
       "<style scoped>\n",
       "    .dataframe tbody tr th:only-of-type {\n",
       "        vertical-align: middle;\n",
       "    }\n",
       "\n",
       "    .dataframe tbody tr th {\n",
       "        vertical-align: top;\n",
       "    }\n",
       "\n",
       "    .dataframe thead th {\n",
       "        text-align: right;\n",
       "    }\n",
       "</style>\n",
       "<table border=\"1\" class=\"dataframe\">\n",
       "  <thead>\n",
       "    <tr style=\"text-align: right;\">\n",
       "      <th></th>\n",
       "      <th>record_id</th>\n",
       "      <th>age</th>\n",
       "      <th>gender</th>\n",
       "      <th>mmse</th>\n",
       "      <th>dx</th>\n",
       "      <th>binary_label</th>\n",
       "      <th>filename</th>\n",
       "      <th>subject_id</th>\n",
       "    </tr>\n",
       "  </thead>\n",
       "  <tbody>\n",
       "    <tr>\n",
       "      <th>0</th>\n",
       "      <td>S001</td>\n",
       "      <td>74</td>\n",
       "      <td>male</td>\n",
       "      <td>NaN</td>\n",
       "      <td>HC</td>\n",
       "      <td>0</td>\n",
       "      <td>S001.wav</td>\n",
       "      <td>S001</td>\n",
       "    </tr>\n",
       "    <tr>\n",
       "      <th>1</th>\n",
       "      <td>S002</td>\n",
       "      <td>62</td>\n",
       "      <td>female</td>\n",
       "      <td>30.0</td>\n",
       "      <td>HC</td>\n",
       "      <td>0</td>\n",
       "      <td>S002.wav</td>\n",
       "      <td>S002</td>\n",
       "    </tr>\n",
       "    <tr>\n",
       "      <th>2</th>\n",
       "      <td>S003</td>\n",
       "      <td>69</td>\n",
       "      <td>female</td>\n",
       "      <td>29.0</td>\n",
       "      <td>HC</td>\n",
       "      <td>0</td>\n",
       "      <td>S003.wav</td>\n",
       "      <td>S003</td>\n",
       "    </tr>\n",
       "    <tr>\n",
       "      <th>3</th>\n",
       "      <td>S004</td>\n",
       "      <td>71</td>\n",
       "      <td>female</td>\n",
       "      <td>30.0</td>\n",
       "      <td>HC</td>\n",
       "      <td>0</td>\n",
       "      <td>S004.wav</td>\n",
       "      <td>S004</td>\n",
       "    </tr>\n",
       "    <tr>\n",
       "      <th>4</th>\n",
       "      <td>S005</td>\n",
       "      <td>74</td>\n",
       "      <td>female</td>\n",
       "      <td>30.0</td>\n",
       "      <td>HC</td>\n",
       "      <td>0</td>\n",
       "      <td>S005.wav</td>\n",
       "      <td>S005</td>\n",
       "    </tr>\n",
       "  </tbody>\n",
       "</table>\n",
       "</div>"
      ],
      "text/plain": [
       "  record_id  age  gender  mmse  dx  binary_label  filename subject_id\n",
       "0      S001   74    male   NaN  HC             0  S001.wav       S001\n",
       "1      S002   62  female  30.0  HC             0  S002.wav       S002\n",
       "2      S003   69  female  29.0  HC             0  S003.wav       S003\n",
       "3      S004   71  female  30.0  HC             0  S004.wav       S004\n",
       "4      S005   74  female  30.0  HC             0  S005.wav       S005"
      ]
     },
     "execution_count": 6,
     "metadata": {},
     "output_type": "execute_result"
    }
   ],
   "source": [
    "input_dir = '/Users/jimuelcelestejr/Documents/codebook/MLSpeech4MH/data/ADReSS2020/train_audio_full_wave'\n",
    "\n",
    "metadata_file = os.path.join(input_dir, 'metadata.csv')\n",
    "metadata = pd.read_csv(metadata_file)\n",
    "metadata.head()"
   ]
  },
  {
   "cell_type": "code",
   "execution_count": 7,
   "id": "cfaadea3-292e-4a7e-8147-cca5605d07f1",
   "metadata": {},
   "outputs": [],
   "source": [
    "durs = []\n",
    "for file in metadata['filename']:\n",
    "    input_file = os.path.join(input_dir, file)\n",
    "    dur = get_duration(input_file)\n",
    "    # dur = convert_to_mins(seconds=dur)\n",
    "    durs.append(dur)\n",
    "durs = pd.DataFrame(durs, columns=[\"time\"])"
   ]
  },
  {
   "cell_type": "code",
   "execution_count": 8,
   "id": "5868f5da-7386-42ae-97d6-b91c83a99345",
   "metadata": {},
   "outputs": [
    {
     "data": {
      "text/html": [
       "<div>\n",
       "<style scoped>\n",
       "    .dataframe tbody tr th:only-of-type {\n",
       "        vertical-align: middle;\n",
       "    }\n",
       "\n",
       "    .dataframe tbody tr th {\n",
       "        vertical-align: top;\n",
       "    }\n",
       "\n",
       "    .dataframe thead th {\n",
       "        text-align: right;\n",
       "    }\n",
       "</style>\n",
       "<table border=\"1\" class=\"dataframe\">\n",
       "  <thead>\n",
       "    <tr style=\"text-align: right;\">\n",
       "      <th></th>\n",
       "      <th>time</th>\n",
       "    </tr>\n",
       "  </thead>\n",
       "  <tbody>\n",
       "    <tr>\n",
       "      <th>0</th>\n",
       "      <td>88.862290</td>\n",
       "    </tr>\n",
       "    <tr>\n",
       "      <th>1</th>\n",
       "      <td>57.095102</td>\n",
       "    </tr>\n",
       "    <tr>\n",
       "      <th>2</th>\n",
       "      <td>69.144671</td>\n",
       "    </tr>\n",
       "    <tr>\n",
       "      <th>3</th>\n",
       "      <td>100.540340</td>\n",
       "    </tr>\n",
       "    <tr>\n",
       "      <th>4</th>\n",
       "      <td>81.311610</td>\n",
       "    </tr>\n",
       "    <tr>\n",
       "      <th>...</th>\n",
       "      <td>...</td>\n",
       "    </tr>\n",
       "    <tr>\n",
       "      <th>103</th>\n",
       "      <td>28.468050</td>\n",
       "    </tr>\n",
       "    <tr>\n",
       "      <th>104</th>\n",
       "      <td>28.807007</td>\n",
       "    </tr>\n",
       "    <tr>\n",
       "      <th>105</th>\n",
       "      <td>69.894580</td>\n",
       "    </tr>\n",
       "    <tr>\n",
       "      <th>106</th>\n",
       "      <td>41.478594</td>\n",
       "    </tr>\n",
       "    <tr>\n",
       "      <th>107</th>\n",
       "      <td>76.348549</td>\n",
       "    </tr>\n",
       "  </tbody>\n",
       "</table>\n",
       "<p>108 rows × 1 columns</p>\n",
       "</div>"
      ],
      "text/plain": [
       "           time\n",
       "0     88.862290\n",
       "1     57.095102\n",
       "2     69.144671\n",
       "3    100.540340\n",
       "4     81.311610\n",
       "..          ...\n",
       "103   28.468050\n",
       "104   28.807007\n",
       "105   69.894580\n",
       "106   41.478594\n",
       "107   76.348549\n",
       "\n",
       "[108 rows x 1 columns]"
      ]
     },
     "execution_count": 8,
     "metadata": {},
     "output_type": "execute_result"
    }
   ],
   "source": [
    "durs"
   ]
  },
  {
   "cell_type": "code",
   "execution_count": 9,
   "id": "4083223d-c66d-46cd-b788-68a2cdbb6a7a",
   "metadata": {},
   "outputs": [
    {
     "data": {
      "text/html": [
       "<div>\n",
       "<style scoped>\n",
       "    .dataframe tbody tr th:only-of-type {\n",
       "        vertical-align: middle;\n",
       "    }\n",
       "\n",
       "    .dataframe tbody tr th {\n",
       "        vertical-align: top;\n",
       "    }\n",
       "\n",
       "    .dataframe thead th {\n",
       "        text-align: right;\n",
       "    }\n",
       "</style>\n",
       "<table border=\"1\" class=\"dataframe\">\n",
       "  <thead>\n",
       "    <tr style=\"text-align: right;\">\n",
       "      <th></th>\n",
       "      <th>time</th>\n",
       "    </tr>\n",
       "  </thead>\n",
       "  <tbody>\n",
       "    <tr>\n",
       "      <th>count</th>\n",
       "      <td>108.000000</td>\n",
       "    </tr>\n",
       "    <tr>\n",
       "      <th>mean</th>\n",
       "      <td>72.096518</td>\n",
       "    </tr>\n",
       "    <tr>\n",
       "      <th>std</th>\n",
       "      <td>35.337900</td>\n",
       "    </tr>\n",
       "    <tr>\n",
       "      <th>min</th>\n",
       "      <td>28.468050</td>\n",
       "    </tr>\n",
       "    <tr>\n",
       "      <th>25%</th>\n",
       "      <td>51.730334</td>\n",
       "    </tr>\n",
       "    <tr>\n",
       "      <th>50%</th>\n",
       "      <td>64.372381</td>\n",
       "    </tr>\n",
       "    <tr>\n",
       "      <th>75%</th>\n",
       "      <td>82.903730</td>\n",
       "    </tr>\n",
       "    <tr>\n",
       "      <th>max</th>\n",
       "      <td>224.564989</td>\n",
       "    </tr>\n",
       "  </tbody>\n",
       "</table>\n",
       "</div>"
      ],
      "text/plain": [
       "             time\n",
       "count  108.000000\n",
       "mean    72.096518\n",
       "std     35.337900\n",
       "min     28.468050\n",
       "25%     51.730334\n",
       "50%     64.372381\n",
       "75%     82.903730\n",
       "max    224.564989"
      ]
     },
     "execution_count": 9,
     "metadata": {},
     "output_type": "execute_result"
    }
   ],
   "source": [
    "desc = durs.describe()\n",
    "desc"
   ]
  },
  {
   "cell_type": "code",
   "execution_count": 10,
   "id": "8baeb689-6d65-410b-9116-e7a3a5d43047",
   "metadata": {},
   "outputs": [
    {
     "data": {
      "text/plain": [
       "count          0 days 00:01:48\n",
       "mean    0 days 00:01:12.096518\n",
       "std     0 days 00:00:35.337900\n",
       "min     0 days 00:00:28.468050\n",
       "25%     0 days 00:00:51.730334\n",
       "50%     0 days 00:01:04.372381\n",
       "75%     0 days 00:01:22.903730\n",
       "max     0 days 00:03:44.564989\n",
       "Name: time, dtype: timedelta64[ns]"
      ]
     },
     "execution_count": 10,
     "metadata": {},
     "output_type": "execute_result"
    }
   ],
   "source": [
    "desc['time'].apply(lambda x: convert_to_mins(seconds=x))"
   ]
  },
  {
   "cell_type": "code",
   "execution_count": 11,
   "id": "928cbe9b-dbf9-441d-9ca4-30d7c81bf20d",
   "metadata": {},
   "outputs": [],
   "source": [
    "sns.set_context('paper')\n",
    "sns.set_style('white')"
   ]
  },
  {
   "cell_type": "code",
   "execution_count": 12,
   "id": "5fc61537-6760-4f6c-8241-53f37887f3f7",
   "metadata": {},
   "outputs": [
    {
     "data": {
      "image/png": "[encoded data removed]",
      "text/plain": [
       "<Figure size 640x480 with 1 Axes>"
      ]
     },
     "metadata": {},
     "output_type": "display_data"
    }
   ],
   "source": [
    "plt.ylim(0, 35)\n",
    "plt.xlim(0, 4)\n",
    "plt.xlabel('Audio Recording Duration (Minutes)')\n",
    "ax = sns.histplot(\n",
    "    durs.apply(lambda x: x/60), \n",
    "    bins=11\n",
    ")\n",
    "ax.get_legend().remove()"
   ]
  },
  {
   "cell_type": "code",
   "execution_count": 13,
   "id": "fca5484f-7e5d-4751-ab41-8695c98fe0d9",
   "metadata": {},
   "outputs": [
    {
     "data": {
      "image/png": "[encoded data removed]",
      "text/plain": [
       "<Figure size 640x480 with 1 Axes>"
      ]
     },
     "metadata": {},
     "output_type": "display_data"
    }
   ],
   "source": [
    "plt.ylim(0, 45)\n",
    "plt.xlim(45, 85)\n",
    "plt.xlabel('Age')\n",
    "ax = sns.histplot(\n",
    "    metadata['age'],#.value_counts(), \n",
    "    bins=4\n",
    ")"
   ]
  },
  {
   "cell_type": "code",
   "execution_count": 14,
   "id": "4d0e5cd5-4c95-40dc-802e-e3e9d1024b0f",
   "metadata": {},
   "outputs": [
    {
     "data": {
      "image/png": "[encoded data removed]",
      "text/plain": [
       "<Figure size 640x480 with 1 Axes>"
      ]
     },
     "metadata": {},
     "output_type": "display_data"
    }
   ],
   "source": [
    "plt.ylim(0, 55)\n",
    "plt.xlim(0, 31)\n",
    "plt.xlabel('Mini-Mental State Exam (MMSE) Score')\n",
    "ax = sns.histplot(\n",
    "    metadata['mmse'],\n",
    "    bins=10\n",
    ")"
   ]
  },
  {
   "cell_type": "code",
   "execution_count": 15,
   "id": "63058d8a-d117-47e3-b814-a7c4691f430f",
   "metadata": {},
   "outputs": [
    {
     "data": {
      "text/html": [
       "<div>\n",
       "<style scoped>\n",
       "    .dataframe tbody tr th:only-of-type {\n",
       "        vertical-align: middle;\n",
       "    }\n",
       "\n",
       "    .dataframe tbody tr th {\n",
       "        vertical-align: top;\n",
       "    }\n",
       "\n",
       "    .dataframe thead th {\n",
       "        text-align: right;\n",
       "    }\n",
       "</style>\n",
       "<table border=\"1\" class=\"dataframe\">\n",
       "  <thead>\n",
       "    <tr style=\"text-align: right;\">\n",
       "      <th></th>\n",
       "      <th>age</th>\n",
       "      <th>mmse</th>\n",
       "      <th>duration</th>\n",
       "    </tr>\n",
       "  </thead>\n",
       "  <tbody>\n",
       "    <tr>\n",
       "      <th>age</th>\n",
       "      <td>1.000000</td>\n",
       "      <td>-0.072467</td>\n",
       "      <td>0.033836</td>\n",
       "    </tr>\n",
       "    <tr>\n",
       "      <th>mmse</th>\n",
       "      <td>-0.072467</td>\n",
       "      <td>1.000000</td>\n",
       "      <td>-0.322179</td>\n",
       "    </tr>\n",
       "    <tr>\n",
       "      <th>duration</th>\n",
       "      <td>0.033836</td>\n",
       "      <td>-0.322179</td>\n",
       "      <td>1.000000</td>\n",
       "    </tr>\n",
       "  </tbody>\n",
       "</table>\n",
       "</div>"
      ],
      "text/plain": [
       "               age      mmse  duration\n",
       "age       1.000000 -0.072467  0.033836\n",
       "mmse     -0.072467  1.000000 -0.322179\n",
       "duration  0.033836 -0.322179  1.000000"
      ]
     },
     "execution_count": 15,
     "metadata": {},
     "output_type": "execute_result"
    }
   ],
   "source": [
    "pd.DataFrame({\n",
    "    'age': metadata['age'].values, \n",
    "    'mmse': metadata['mmse'].values,\n",
    "    'duration': durs['time'].values\n",
    "}).corr()"
   ]
  },
  {
   "cell_type": "code",
   "execution_count": 16,
   "id": "accb3d18-64d1-405a-a8ea-624ab61c40e8",
   "metadata": {},
   "outputs": [
    {
     "data": {
      "text/plain": [
       "<Axes: xlabel='dx', ylabel='mmse'>"
      ]
     },
     "execution_count": 16,
     "metadata": {},
     "output_type": "execute_result"
    },
    {
     "data": {
      "image/png": "[encoded data removed]",
      "text/plain": [
       "<Figure size 640x480 with 1 Axes>"
      ]
     },
     "metadata": {},
     "output_type": "display_data"
    }
   ],
   "source": [
    "sns.boxplot(\n",
    "    data=metadata, \n",
    "    x=\"dx\", \n",
    "    y=\"mmse\"\n",
    ")"
   ]
  }
 ],
 "metadata": {
  "kernelspec": {
   "display_name": "Python 3 (ipykernel)",
   "language": "python",
   "name": "python3"
  },
  "language_info": {
   "codemirror_mode": {
    "name": "ipython",
    "version": 3
   },
   "file_extension": ".py",
   "mimetype": "text/x-python",
   "name": "python",
   "nbconvert_exporter": "python",
   "pygments_lexer": "ipython3",
   "version": "3.9.21"
  }
 },
 "nbformat": 4,
 "nbformat_minor": 5
}
