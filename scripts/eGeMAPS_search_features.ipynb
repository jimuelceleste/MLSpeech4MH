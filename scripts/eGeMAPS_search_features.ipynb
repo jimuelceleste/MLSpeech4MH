{
 "cells": [
  {
   "cell_type": "markdown",
   "id": "5eeb60c9-2eea-488a-8815-50aee073e4da",
   "metadata": {},
   "source": [
    "# eGeMAPS Search Features \n",
    "\n",
    "By: Jimuel Celeste, Jr. \n",
    "\n",
    "Objective: To develop a tool that extracts eGeMAPS features by parameter group.\n",
    "\n",
    "This is inspired by LFTK's search_feature() function: https://lftk.readthedocs.io/en/latest/key.html.\n",
    "\n",
    "The vision is to train models by parameter group, not necessarily the entire eGeMAPS feature set, to improve interpretability of results."
   ]
  },
  {
   "cell_type": "code",
   "execution_count": 1,
   "id": "3b3d24c6-6307-4131-9c5f-9dd8e4ba859e",
   "metadata": {},
   "outputs": [],
   "source": [
    "import pandas as pd "
   ]
  },
  {
   "cell_type": "code",
   "execution_count": 3,
   "id": "31ff6533-4a3f-498b-a543-ecccf87100de",
   "metadata": {},
   "outputs": [],
   "source": [
    "def search_features(parameter_group=\"*\", parameter=\"*\"):\n",
    "    "
   ]
  },
  {
   "cell_type": "code",
   "execution_count": null,
   "id": "9916c19d-1a50-4fe9-ba5a-73142e00e9c5",
   "metadata": {},
   "outputs": [],
   "source": []
  }
 ],
 "metadata": {
  "kernelspec": {
   "display_name": "Python 3 (ipykernel)",
   "language": "python",
   "name": "python3"
  },
  "language_info": {
   "codemirror_mode": {
    "name": "ipython",
    "version": 3
   },
   "file_extension": ".py",
   "mimetype": "text/x-python",
   "name": "python",
   "nbconvert_exporter": "python",
   "pygments_lexer": "ipython3",
   "version": "3.9.21"
  }
 },
 "nbformat": 4,
 "nbformat_minor": 5
}
